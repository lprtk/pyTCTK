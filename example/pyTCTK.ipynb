{
 "cells": [
  {
   "cell_type": "markdown",
   "id": "6dd93349",
   "metadata": {},
   "source": [
    "<strong>\n",
    "    <font color=\"#0E1117\">\n",
    "        Author: lprtk\n",
    "    </font>\n",
    "</strong>\n",
    "\n",
    "<br/>\n",
    "<br/>\n",
    "\n",
    "<Center>\n",
    "    <h1 style=\"font-family: Arial\">\n",
    "        <font color=\"#0E1117\">\n",
    "            pyTCTK library for text cleaning\n",
    "        </font>\n",
    "    </h1>\n",
    "    <br/>\n",
    "    <h2>\n",
    "        <font color=\"#0E1117\">\n",
    "            Example of use\n",
    "        </font>\n",
    "    </h2>\n",
    "</Center>"
   ]
  },
  {
   "cell_type": "markdown",
   "id": "123476ab",
   "metadata": {},
   "source": [
    "------------------------------------------------------------------------------------------------------------------------------- "
   ]
  },
  {
   "cell_type": "markdown",
   "id": "118dd0a9",
   "metadata": {},
   "source": [
    "<div style=\"margin: 10px;\">\n",
    "    <h2 style=\"font-family: Arial\">\n",
    "        <font color=\"#0E1117\">\n",
    "            Libraries import\n",
    "        </font>\n",
    "    </h2>\n",
    "</div>"
   ]
  },
  {
   "cell_type": "code",
   "execution_count": 1,
   "id": "118cd7c6",
   "metadata": {},
   "outputs": [],
   "source": [
    "import pandas as pd\n",
    "from pyTCTK import TextNet, Tokenize, WordNet"
   ]
  },
  {
   "cell_type": "markdown",
   "id": "f8d08ec3",
   "metadata": {},
   "source": [
    "------------------------------------------------------------------------------------------------------------------------------- "
   ]
  },
  {
   "cell_type": "markdown",
   "id": "a8121f5d",
   "metadata": {},
   "source": [
    "<div style=\"margin: 10px;\">\n",
    "    <h2 style=\"font-family: Arial\">\n",
    "        <font color=\"#0E1117\">\n",
    "            Data import\n",
    "        </font>\n",
    "    </h2>\n",
    "</div>"
   ]
  },
  {
   "cell_type": "code",
   "execution_count": 2,
   "id": "b13af8bf",
   "metadata": {},
   "outputs": [],
   "source": [
    "data = {\n",
    "    \"Description\":  [\n",
    "        \"I don't like writing!\",\n",
    "        \"When you are a Data Scientist, you need to have several skills: statistics, IT and business expertise.\",\n",
    "        \"J'ai modélisé sur de nombreux problèmes à l'aide du Machine Learning.\",\n",
    "        \" Ce matin, jsuis arrivé au lycée si fatigué. Je voulais pas faire mon cours de mathématiques.\",\n",
    "        \"I don't know what is the best computer for coding and working but my laptop is so cool.\",\n",
    "        \"Nous   vous recommandons de regarder souvent vos emails afin d'être informer des nouveautés!\",\n",
    "        \"During the implementation of the API, an error appeared on docker and we can't solve it.\",\n",
    "        \"Contact me on email@pyTCTK.com or on www.pyTCTK.com\",\n",
    "        \"<h1><font color='#000000'>This is the title of my website in html</font></h1>\",\n",
    "        \"Lucas and his friends came to eat at our house this afternoon!\",\n",
    "        \"Je suis trop content 😂, mais il faut que je revise mes concours et je n'ai pas envie 🤔, 🙈, 😌, 💕 🦹‍♀️ 🐦\",\n",
    "        \"Allez tous suivre @lprtk sur GitHub, pour lui donner de la force. #DataScience #Python\"\n",
    "    ]\n",
    "}\n",
    "\n",
    "df_data = pd.DataFrame(data)"
   ]
  },
  {
   "cell_type": "code",
   "execution_count": 3,
   "id": "32ce042a",
   "metadata": {},
   "outputs": [
    {
     "name": "stdout",
     "output_type": "stream",
     "text": [
      "                                          Description\n",
      "0                               I don't like writing!\n",
      "1   When you are a Data Scientist, you need to hav...\n",
      "2   J'ai modélisé sur de nombreux problèmes à l'ai...\n",
      "3    Ce matin, jsuis arrivé au lycée si fatigué. J...\n",
      "4   I don't know what is the best computer for cod...\n",
      "5   Nous   vous recommandons de regarder souvent v...\n",
      "6   During the implementation of the API, an error...\n",
      "7   Contact me on email@pyTCTK.com or on www.pyTCT...\n",
      "8   <h1><font color='#000000'>This is the title of...\n",
      "9   Lucas and his friends came to eat at our house...\n",
      "10  Je suis trop content 😂, mais il faut que je re...\n",
      "11  Allez tous suivre @lprtk sur GitHub, pour lui ...\n"
     ]
    }
   ],
   "source": [
    "print(df_data)"
   ]
  },
  {
   "cell_type": "markdown",
   "id": "4e223e77",
   "metadata": {},
   "source": [
    "------------------------------------------------------------------------------------------------------------------------------- "
   ]
  },
  {
   "cell_type": "markdown",
   "id": "bd0238d1",
   "metadata": {},
   "source": [
    "<div style=\"margin: 10px;\">\n",
    "    <h2 style=\"font-family: Arial\">\n",
    "        <font color=\"#0E1117\">\n",
    "            Functionalities\n",
    "        </font>\n",
    "    </h2>\n",
    "</div>"
   ]
  },
  {
   "cell_type": "markdown",
   "id": "50165241",
   "metadata": {},
   "source": [
    "**Step 1:**\n",
    "<p align=\"justify\">\n",
    "    Keep only descriptions which have more than 5 words.\n",
    "</p>"
   ]
  },
  {
   "cell_type": "code",
   "execution_count": 4,
   "id": "b19b2813",
   "metadata": {},
   "outputs": [],
   "source": [
    "df_data = TextNet(\n",
    "    data=df_data,\n",
    "    column=\"Description\"\n",
    ").word_count_filter(\n",
    "    min_words=5\n",
    ")"
   ]
  },
  {
   "cell_type": "code",
   "execution_count": 5,
   "id": "6e2ed5f7",
   "metadata": {},
   "outputs": [
    {
     "name": "stdout",
     "output_type": "stream",
     "text": [
      "                                          Description\n",
      "0   When you are a Data Scientist, you need to hav...\n",
      "1   J'ai modélisé sur de nombreux problèmes à l'ai...\n",
      "2    Ce matin, jsuis arrivé au lycée si fatigué. J...\n",
      "3   I don't know what is the best computer for cod...\n",
      "4   Nous   vous recommandons de regarder souvent v...\n",
      "5   During the implementation of the API, an error...\n",
      "6   Contact me on email@pyTCTK.com or on www.pyTCT...\n",
      "7   <h1><font color='#000000'>This is the title of...\n",
      "8   Lucas and his friends came to eat at our house...\n",
      "9   Je suis trop content 😂, mais il faut que je re...\n",
      "10  Allez tous suivre @lprtk sur GitHub, pour lui ...\n"
     ]
    }
   ],
   "source": [
    "print(df_data)"
   ]
  },
  {
   "cell_type": "markdown",
   "id": "e38dd9f1",
   "metadata": {},
   "source": [
    "**Step 2:**\n",
    "<p align=\"justify\">\n",
    "    Make some general text cleaning.\n",
    "</p>"
   ]
  },
  {
   "cell_type": "code",
   "execution_count": 6,
   "id": "904d7cc0",
   "metadata": {},
   "outputs": [],
   "source": [
    "df_data = TextNet(\n",
    "    data=df_data,\n",
    "    column=\"Description\"\n",
    ").lowercase()"
   ]
  },
  {
   "cell_type": "code",
   "execution_count": 7,
   "id": "590a6011",
   "metadata": {},
   "outputs": [
    {
     "name": "stdout",
     "output_type": "stream",
     "text": [
      "                                          Description\n",
      "0   when you are a data scientist, you need to hav...\n",
      "1   j'ai modélisé sur de nombreux problèmes à l'ai...\n",
      "2    ce matin, jsuis arrivé au lycée si fatigué. j...\n",
      "3   i don't know what is the best computer for cod...\n",
      "4   nous   vous recommandons de regarder souvent v...\n",
      "5   during the implementation of the api, an error...\n",
      "6   contact me on email@pytctk.com or on www.pytct...\n",
      "7   <h1><font color='#000000'>this is the title of...\n",
      "8   lucas and his friends came to eat at our house...\n",
      "9   je suis trop content 😂, mais il faut que je re...\n",
      "10  allez tous suivre @lprtk sur github, pour lui ...\n"
     ]
    }
   ],
   "source": [
    "print(df_data)"
   ]
  },
  {
   "cell_type": "code",
   "execution_count": 8,
   "id": "d21905af",
   "metadata": {},
   "outputs": [],
   "source": [
    "df_data = TextNet(\n",
    "    data=df_data,\n",
    "    column=\"Description\"\n",
    ").remove_email()"
   ]
  },
  {
   "cell_type": "code",
   "execution_count": 9,
   "id": "80b9ee83",
   "metadata": {},
   "outputs": [],
   "source": [
    "df_data = TextNet(\n",
    "    data=df_data,\n",
    "    column=\"Description\"\n",
    ").remove_html()"
   ]
  },
  {
   "cell_type": "code",
   "execution_count": 10,
   "id": "05633cb6",
   "metadata": {},
   "outputs": [],
   "source": [
    "df_data = TextNet(\n",
    "    data=df_data,\n",
    "    column=\"Description\"\n",
    ").remove_url()"
   ]
  },
  {
   "cell_type": "code",
   "execution_count": 11,
   "id": "42cb8c21",
   "metadata": {},
   "outputs": [
    {
     "name": "stdout",
     "output_type": "stream",
     "text": [
      "                                          Description\n",
      "0   when you are a data scientist, you need to hav...\n",
      "1   j'ai modélisé sur de nombreux problèmes à l'ai...\n",
      "2    ce matin, jsuis arrivé au lycée si fatigué. j...\n",
      "3   i don't know what is the best computer for cod...\n",
      "4   nous   vous recommandons de regarder souvent v...\n",
      "5   during the implementation of the api, an error...\n",
      "6                               contact me on  or on \n",
      "7             this is the title of my website in html\n",
      "8   lucas and his friends came to eat at our house...\n",
      "9   je suis trop content 😂, mais il faut que je re...\n",
      "10  allez tous suivre @lprtk sur github, pour lui ...\n"
     ]
    }
   ],
   "source": [
    "print(df_data)"
   ]
  },
  {
   "cell_type": "code",
   "execution_count": 12,
   "id": "620049c8",
   "metadata": {},
   "outputs": [],
   "source": [
    "df_data = TextNet(\n",
    "    data=df_data,\n",
    "    column=\"Description\"\n",
    ").remove_mention()"
   ]
  },
  {
   "cell_type": "code",
   "execution_count": 13,
   "id": "c3a7c899",
   "metadata": {},
   "outputs": [],
   "source": [
    "df_data = TextNet(\n",
    "    data=df_data,\n",
    "    column=\"Description\"\n",
    ").remove_hastag()"
   ]
  },
  {
   "cell_type": "code",
   "execution_count": 14,
   "id": "d2034d02",
   "metadata": {},
   "outputs": [],
   "source": [
    "df_data = TextNet(\n",
    "    data=df_data,\n",
    "    column=\"Description\"\n",
    ").remove_emoji()"
   ]
  },
  {
   "cell_type": "code",
   "execution_count": 15,
   "id": "1974ea00",
   "metadata": {},
   "outputs": [
    {
     "name": "stdout",
     "output_type": "stream",
     "text": [
      "                                          Description\n",
      "0   when you are a data scientist, you need to hav...\n",
      "1   j'ai modélisé sur de nombreux problèmes à l'ai...\n",
      "2    ce matin, jsuis arrivé au lycée si fatigué. j...\n",
      "3   i don't know what is the best computer for cod...\n",
      "4   nous   vous recommandons de regarder souvent v...\n",
      "5   during the implementation of the api, an error...\n",
      "6                               contact me on  or on \n",
      "7             this is the title of my website in html\n",
      "8   lucas and his friends came to eat at our house...\n",
      "9   je suis trop content , mais il faut que je rev...\n",
      "10  allez tous suivre  sur github, pour lui donner...\n"
     ]
    }
   ],
   "source": [
    "print(df_data)"
   ]
  },
  {
   "cell_type": "code",
   "execution_count": 16,
   "id": "89cba1ec",
   "metadata": {},
   "outputs": [],
   "source": [
    "df_data = TextNet(\n",
    "    data=df_data,\n",
    "    column=\"Description\"\n",
    ").remove_space()"
   ]
  },
  {
   "cell_type": "code",
   "execution_count": 17,
   "id": "2d488c0d",
   "metadata": {},
   "outputs": [],
   "source": [
    "df_data = TextNet(\n",
    "    data=df_data,\n",
    "    column=\"Description\"\n",
    ").remove_whitespace()"
   ]
  },
  {
   "cell_type": "code",
   "execution_count": 18,
   "id": "043e69d3",
   "metadata": {},
   "outputs": [
    {
     "name": "stdout",
     "output_type": "stream",
     "text": [
      "                                          Description\n",
      "0   when you are a data scientist, you need to hav...\n",
      "1   j'ai modélisé sur de nombreux problèmes à l'ai...\n",
      "2   ce matin, jsuis arrivé au lycée si fatigué. je...\n",
      "3   i don't know what is the best computer for cod...\n",
      "4   nous vous recommandons de regarder souvent vos...\n",
      "5   during the implementation of the api, an error...\n",
      "6                                 contact me on or on\n",
      "7             this is the title of my website in html\n",
      "8   lucas and his friends came to eat at our house...\n",
      "9   je suis trop content , mais il faut que je rev...\n",
      "10  allez tous suivre sur github, pour lui donner ...\n"
     ]
    }
   ],
   "source": [
    "print(df_data)"
   ]
  },
  {
   "cell_type": "markdown",
   "id": "4c76e2ab",
   "metadata": {},
   "source": [
    "**Step 3:**\n",
    "<p align=\"justify\">\n",
    "    Clear stopwords in sentences.\n",
    "</p>"
   ]
  },
  {
   "cell_type": "code",
   "execution_count": 19,
   "id": "6a429b30",
   "metadata": {},
   "outputs": [],
   "source": [
    "df_data = WordNet(\n",
    "    data=df_data,\n",
    "    column=\"Description\"\n",
    ").remove_stopword(\n",
    "    language=\"english\",\n",
    "    lowercase=False,\n",
    "    remove_accents=False,\n",
    "    add_stopwords=[\"Lucas\"],\n",
    "    remove_stopwords=[\"his\", \"this\"]\n",
    ")"
   ]
  },
  {
   "cell_type": "code",
   "execution_count": 20,
   "id": "6cf56a4f",
   "metadata": {},
   "outputs": [],
   "source": [
    "df_data = WordNet(\n",
    "    data=df_data,\n",
    "    column=\"Description\"\n",
    ").remove_stopword(\n",
    "    language=\"french\",\n",
    "    lowercase=False,\n",
    "    remove_accents=False,\n",
    "    add_stopwords=None,\n",
    "    remove_stopwords=None\n",
    ")"
   ]
  },
  {
   "cell_type": "code",
   "execution_count": 21,
   "id": "85ec1c67",
   "metadata": {},
   "outputs": [
    {
     "name": "stdout",
     "output_type": "stream",
     "text": [
      "                                          Description\n",
      "0   data scientist, need several skills: statistic...\n",
      "1         modélisé problèmes l'aide machine learning.\n",
      "2   matin, arrivé lycée fatigué. voulais faire cou...\n",
      "3           know computer coding working laptop cool.\n",
      "4   recommandons regarder emails d'être informer n...\n",
      "5   implementation api, error appeared docker solv...\n",
      "6                                             contact\n",
      "7                                  this title website\n",
      "8    lucas his friends came eat house this afternoon!\n",
      "9     content , faut revise concours n'ai envie , , ,\n",
      "10                 allez suivre github, donner force.\n"
     ]
    }
   ],
   "source": [
    "print(df_data)"
   ]
  },
  {
   "cell_type": "markdown",
   "id": "c7a0e0f3",
   "metadata": {},
   "source": [
    "**Step 4:**\n",
    "<p align=\"justify\">\n",
    "    Apply lematization process on sentences.\n",
    "</p>"
   ]
  },
  {
   "cell_type": "code",
   "execution_count": 22,
   "id": "3708e7d0",
   "metadata": {},
   "outputs": [],
   "source": [
    "df_data = WordNet(\n",
    "    data=df_data,\n",
    "    column=\"Description\"\n",
    ").lemmatize(\n",
    "    language=\"english\",\n",
    "    lowercase=False,\n",
    "    remove_accents=False\n",
    ")"
   ]
  },
  {
   "cell_type": "code",
   "execution_count": 23,
   "id": "6e40a847",
   "metadata": {},
   "outputs": [],
   "source": [
    "df_data = WordNet(\n",
    "    data=df_data,\n",
    "    column=\"Description\"\n",
    ").lemmatize(\n",
    "    language=\"french\",\n",
    "    lowercase=False,\n",
    "    remove_accents=False\n",
    ")"
   ]
  },
  {
   "cell_type": "code",
   "execution_count": 24,
   "id": "24bb5784",
   "metadata": {},
   "outputs": [
    {
     "name": "stdout",
     "output_type": "stream",
     "text": [
      "                                          Description\n",
      "0   data scientist, need several skills: statistic...\n",
      "1          modéliser problèmes l'aider machine learn.\n",
      "2   matin, arriver lycée fatiguer. vouloir faire c...\n",
      "3                know computer code work laptop cool.\n",
      "4   recommander regarder emails d'être informer no...\n",
      "5        implement api, error appear docker solve it.\n",
      "6                                             contact\n",
      "7                                  this title website\n",
      "8    lucas his friends come eat house this afternoon!\n",
      "9   content , falloir revise concours n'avoir envi...\n",
      "10                 aller suivre github, donner force.\n"
     ]
    }
   ],
   "source": [
    "print(df_data)"
   ]
  },
  {
   "cell_type": "markdown",
   "id": "fab565f8",
   "metadata": {},
   "source": [
    "**Step 5:**\n",
    "<p align=\"justify\">\n",
    "    After this big cleaning, we can remove punctuation and the remaining plural words.\n",
    "</p>"
   ]
  },
  {
   "cell_type": "code",
   "execution_count": 25,
   "id": "7b067129",
   "metadata": {},
   "outputs": [],
   "source": [
    "df_data = TextNet(\n",
    "    data=df_data,\n",
    "    column=\"Description\"\n",
    ").remove_punctuation()"
   ]
  },
  {
   "cell_type": "code",
   "execution_count": 26,
   "id": "64d8f0c0",
   "metadata": {},
   "outputs": [],
   "source": [
    "df_data = TextNet(\n",
    "    data=df_data,\n",
    "    column=\"Description\"\n",
    ").remove_single_character()"
   ]
  },
  {
   "cell_type": "code",
   "execution_count": 27,
   "id": "5ecf46db",
   "metadata": {},
   "outputs": [],
   "source": [
    "df_data = TextNet(\n",
    "    data=df_data,\n",
    "    column=\"Description\"\n",
    ").remove_plural(\n",
    "    word_length=5\n",
    ")"
   ]
  },
  {
   "cell_type": "code",
   "execution_count": 28,
   "id": "9ffa2639",
   "metadata": {},
   "outputs": [],
   "source": [
    "df_data = TextNet(\n",
    "    data=df_data,\n",
    "    column=\"Description\"\n",
    ").remove_whitespace()"
   ]
  },
  {
   "cell_type": "code",
   "execution_count": 29,
   "id": "dd3d6080",
   "metadata": {},
   "outputs": [
    {
     "name": "stdout",
     "output_type": "stream",
     "text": [
      "                                          Description\n",
      "0   data scientist need several skill statistic bu...\n",
      "1              modéliser problème aider machine learn\n",
      "2   matin arriver lycée fatiguer vouloir faire cou...\n",
      "3                 know computer code work laptop cool\n",
      "4   recommander regarder email être informer nouve...\n",
      "5          implement api error appear docker solve it\n",
      "6                                             contact\n",
      "7                                  this title website\n",
      "8      lucas his friend come eat house this afternoon\n",
      "9          content falloir revise concour avoir envie\n",
      "10                   aller suivre github donner force\n"
     ]
    }
   ],
   "source": [
    "print(df_data)"
   ]
  },
  {
   "cell_type": "markdown",
   "id": "02c39490",
   "metadata": {},
   "source": [
    "**Step 6:**\n",
    "<p align=\"justify\">\n",
    "    Tokenize each word from sentences\n",
    "</p>"
   ]
  },
  {
   "cell_type": "code",
   "execution_count": 30,
   "id": "cdd6d467",
   "metadata": {},
   "outputs": [],
   "source": [
    "df_data = Tokenize(\n",
    "    data=df_data,\n",
    "    column=\"Description\"\n",
    ").word_tokenize()"
   ]
  },
  {
   "cell_type": "code",
   "execution_count": 31,
   "id": "ac3b9182",
   "metadata": {},
   "outputs": [
    {
     "name": "stdout",
     "output_type": "stream",
     "text": [
      "                                          Description\n",
      "0   [data, scientist, need, several, skill, statis...\n",
      "1        [modéliser, problème, aider, machine, learn]\n",
      "2   [matin, arriver, lycée, fatiguer, vouloir, fai...\n",
      "3          [know, computer, code, work, laptop, cool]\n",
      "4   [recommander, regarder, email, être, informer,...\n",
      "5   [implement, api, error, appear, docker, solve,...\n",
      "6                                           [contact]\n",
      "7                              [this, title, website]\n",
      "8   [lucas, his, friend, come, eat, house, this, a...\n",
      "9   [content, falloir, revise, concour, avoir, envie]\n",
      "10             [aller, suivre, github, donner, force]\n"
     ]
    }
   ],
   "source": [
    "print(df_data)"
   ]
  }
 ],
 "metadata": {
  "kernelspec": {
   "display_name": "Python 3 (ipykernel)",
   "language": "python",
   "name": "python3"
  },
  "language_info": {
   "codemirror_mode": {
    "name": "ipython",
    "version": 3
   },
   "file_extension": ".py",
   "mimetype": "text/x-python",
   "name": "python",
   "nbconvert_exporter": "python",
   "pygments_lexer": "ipython3",
   "version": "3.9.7"
  }
 },
 "nbformat": 4,
 "nbformat_minor": 5
}
